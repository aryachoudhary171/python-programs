{
 "cells": [
  {
   "cell_type": "code",
   "execution_count": 1,
   "id": "8b79f33a-60bc-4494-9ea1-e30d0eb328ae",
   "metadata": {},
   "outputs": [
    {
     "name": "stdin",
     "output_type": "stream",
     "text": [
      "enter value1 2\n",
      "enter value2 3\n"
     ]
    },
    {
     "name": "stdout",
     "output_type": "stream",
     "text": [
      " before swapping 2,3\n",
      "after swapping 3,2\n"
     ]
    }
   ],
   "source": [
    "n1=int(input(\"enter value1\"))\n",
    "n2=int(input(\"enter value2\"))\n",
    "print(f\" before swapping {n1},{n2}\")\n",
    "n1,n2=n2,n1\n",
    "print(f\"after swapping {n1},{n2}\")"
   ]
  },
  {
   "cell_type": "code",
   "execution_count": null,
   "id": "9cb03faa-2e4c-47cc-85ca-2cf96913d11f",
   "metadata": {},
   "outputs": [],
   "source": []
  }
 ],
 "metadata": {
  "kernelspec": {
   "display_name": "Python 3 (ipykernel)",
   "language": "python",
   "name": "python3"
  },
  "language_info": {
   "codemirror_mode": {
    "name": "ipython",
    "version": 3
   },
   "file_extension": ".py",
   "mimetype": "text/x-python",
   "name": "python",
   "nbconvert_exporter": "python",
   "pygments_lexer": "ipython3",
   "version": "3.13.1"
  }
 },
 "nbformat": 4,
 "nbformat_minor": 5
}
