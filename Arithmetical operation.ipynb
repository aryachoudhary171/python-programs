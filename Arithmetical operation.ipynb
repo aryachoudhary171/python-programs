{
 "cells": [
  {
   "cell_type": "code",
   "execution_count": 1,
   "id": "19a5a87c-a40f-4c42-a9be-9b0a3ce0e209",
   "metadata": {},
   "outputs": [
    {
     "name": "stdin",
     "output_type": "stream",
     "text": [
      "enter first number 2\n",
      "enter second number 3\n"
     ]
    }
   ],
   "source": [
    "num1=int(input(\"enter first number\"))\n",
    "num2=int(input(\"enter second number\"))"
   ]
  },
  {
   "cell_type": "code",
   "execution_count": 4,
   "id": "9a4d1301-26c4-4232-8d90-80d355a5b361",
   "metadata": {},
   "outputs": [
    {
     "name": "stdout",
     "output_type": "stream",
     "text": [
      "sum: 2 + 3 = 5\n"
     ]
    }
   ],
   "source": [
    "#addition\n",
    "\n",
    "x=num1+num2\n",
    "print(f\"sum: {num1} + {num2} = {x}\" )"
   ]
  },
  {
   "cell_type": "code",
   "execution_count": 5,
   "id": "9889d534-2e54-4122-8aed-52ae66399173",
   "metadata": {},
   "outputs": [
    {
     "name": "stdout",
     "output_type": "stream",
     "text": [
      "sum: 2 * 3 = 6\n"
     ]
    }
   ],
   "source": [
    "#multiplication\n",
    "y=num1*num2\n",
    "print(f\"sum: {num1} * {num2} = {y}\" )"
   ]
  },
  {
   "cell_type": "code",
   "execution_count": 6,
   "id": "7e045bb1-afb4-4105-89f3-952af728edb0",
   "metadata": {},
   "outputs": [
    {
     "name": "stdout",
     "output_type": "stream",
     "text": [
      "sum: 2 - 3 = -1\n"
     ]
    }
   ],
   "source": [
    "#substraction\n",
    "\n",
    "z=num1-num2\n",
    "print(f\"sum: {num1} - {num2} = {z}\" )"
   ]
  },
  {
   "cell_type": "code",
   "execution_count": 7,
   "id": "79e55128-6142-4637-8f13-f03f757a86d4",
   "metadata": {},
   "outputs": [
    {
     "name": "stdout",
     "output_type": "stream",
     "text": [
      "sum: 2 / 3 = 0.6666666666666666\n"
     ]
    }
   ],
   "source": [
    "#division\n",
    "\n",
    "t=num1/num2\n",
    "print(f\"sum: {num1} / {num2} = {t}\" )"
   ]
  },
  {
   "cell_type": "code",
   "execution_count": null,
   "id": "ac7f6256-8744-42f0-b3ff-1a8665bfb11f",
   "metadata": {},
   "outputs": [],
   "source": []
  }
 ],
 "metadata": {
  "kernelspec": {
   "display_name": "Python 3 (ipykernel)",
   "language": "python",
   "name": "python3"
  },
  "language_info": {
   "codemirror_mode": {
    "name": "ipython",
    "version": 3
   },
   "file_extension": ".py",
   "mimetype": "text/x-python",
   "name": "python",
   "nbconvert_exporter": "python",
   "pygments_lexer": "ipython3",
   "version": "3.13.1"
  }
 },
 "nbformat": 4,
 "nbformat_minor": 5
}
