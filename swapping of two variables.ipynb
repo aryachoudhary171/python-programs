{
 "cells": [
  {
   "cell_type": "code",
   "execution_count": 2,
   "id": "72c88777-46e8-481d-984e-95dea05f2e14",
   "metadata": {},
   "outputs": [
    {
     "name": "stdin",
     "output_type": "stream",
     "text": [
      "enter first variable 3\n",
      "enter second variable 2\n"
     ]
    },
    {
     "name": "stdout",
     "output_type": "stream",
     "text": [
      " original value for variable a and b is 3 2 respectively\n"
     ]
    }
   ],
   "source": [
    "a=int(input(\"enter first variable\"))\n",
    "b=int(input(\"enter second variable\"))\n",
    "print(f\" original value for variable a and b is {a} {b} respectively\")"
   ]
  },
  {
   "cell_type": "code",
   "execution_count": 3,
   "id": "242bac1c-dd45-467e-82ee-ee8da49089f3",
   "metadata": {},
   "outputs": [
    {
     "name": "stdout",
     "output_type": "stream",
     "text": [
      " valued exchanged for a is 2 ,b is 3\n"
     ]
    }
   ],
   "source": [
    "temp=a\n",
    "a=b\n",
    "b=temp\n",
    "\n",
    "print(f\" valued exchanged for a is {a} ,b is {b}\")"
   ]
  },
  {
   "cell_type": "code",
   "execution_count": null,
   "id": "aee9c4d2-4e28-44db-80e7-a7cd9473806d",
   "metadata": {},
   "outputs": [],
   "source": []
  }
 ],
 "metadata": {
  "kernelspec": {
   "display_name": "Python 3 (ipykernel)",
   "language": "python",
   "name": "python3"
  },
  "language_info": {
   "codemirror_mode": {
    "name": "ipython",
    "version": 3
   },
   "file_extension": ".py",
   "mimetype": "text/x-python",
   "name": "python",
   "nbconvert_exporter": "python",
   "pygments_lexer": "ipython3",
   "version": "3.13.1"
  }
 },
 "nbformat": 4,
 "nbformat_minor": 5
}
