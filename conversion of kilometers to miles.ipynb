{
 "cells": [
  {
   "cell_type": "code",
   "execution_count": 1,
   "id": "b1f719b7-52ef-42d7-8f26-0290031f64dc",
   "metadata": {},
   "outputs": [
    {
     "name": "stdin",
     "output_type": "stream",
     "text": [
      "Enter distance in kilometers 100\n"
     ]
    }
   ],
   "source": [
    "num=int(input(\"Enter distance in kilometers\"))\n"
   ]
  },
  {
   "cell_type": "code",
   "execution_count": 3,
   "id": "31ef87be-3a85-4977-88a2-42812b5d58d4",
   "metadata": {},
   "outputs": [
    {
     "name": "stdout",
     "output_type": "stream",
     "text": [
      "62.137100000000004\n"
     ]
    }
   ],
   "source": [
    "conversion_factor=0.621371\n",
    "miles=num * conversion_factor\n",
    "print(miles)"
   ]
  },
  {
   "cell_type": "code",
   "execution_count": null,
   "id": "5c51dcb1-008b-43bb-b659-aea39efe1ae0",
   "metadata": {},
   "outputs": [],
   "source": []
  }
 ],
 "metadata": {
  "kernelspec": {
   "display_name": "Python 3 (ipykernel)",
   "language": "python",
   "name": "python3"
  },
  "language_info": {
   "codemirror_mode": {
    "name": "ipython",
    "version": 3
   },
   "file_extension": ".py",
   "mimetype": "text/x-python",
   "name": "python",
   "nbconvert_exporter": "python",
   "pygments_lexer": "ipython3",
   "version": "3.13.1"
  }
 },
 "nbformat": 4,
 "nbformat_minor": 5
}
