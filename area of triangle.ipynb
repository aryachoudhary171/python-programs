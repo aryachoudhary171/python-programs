{
 "cells": [
  {
   "cell_type": "code",
   "execution_count": 2,
   "id": "c5c0107b-9aab-4f96-8745-6fae74ecc9ce",
   "metadata": {},
   "outputs": [
    {
     "name": "stdin",
     "output_type": "stream",
     "text": [
      "enter base 10\n",
      "enter height 7\n"
     ]
    },
    {
     "name": "stdout",
     "output_type": "stream",
     "text": [
      " area of triangle with 10.0 and 7.0 is 35.0\n"
     ]
    }
   ],
   "source": [
    "x=float(input(\"enter base\"))\n",
    "y=float(input(\"enter height\"))\n",
    "area=1/2*(x*y)\n",
    "print(f\" area of triangle with {x} and {y} is {area}\")"
   ]
  },
  {
   "cell_type": "code",
   "execution_count": null,
   "id": "ecd4203d-7a8d-444e-88b6-5f9987d34ea1",
   "metadata": {},
   "outputs": [],
   "source": []
  }
 ],
 "metadata": {
  "kernelspec": {
   "display_name": "Python 3 (ipykernel)",
   "language": "python",
   "name": "python3"
  },
  "language_info": {
   "codemirror_mode": {
    "name": "ipython",
    "version": 3
   },
   "file_extension": ".py",
   "mimetype": "text/x-python",
   "name": "python",
   "nbconvert_exporter": "python",
   "pygments_lexer": "ipython3",
   "version": "3.13.1"
  }
 },
 "nbformat": 4,
 "nbformat_minor": 5
}
