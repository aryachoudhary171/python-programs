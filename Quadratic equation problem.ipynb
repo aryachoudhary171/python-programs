{
 "cells": [
  {
   "cell_type": "code",
   "execution_count": null,
   "id": "d019a980-f88c-4b42-aa07-428af831a077",
   "metadata": {},
   "outputs": [],
   "source": [
    "#The standard form of a quadratic equation is:ax^2+bx+c=0\n",
    "#where a, b and c are real numbers and a is not equal to 0\n",
    "#The solutions of this quadratic equation is given by:\n",
    "\n",
    "#(−𝑏 ± (𝑏 − 4𝑎𝑐 )/(2𝑎)\n"
   ]
  },
  {
   "cell_type": "code",
   "execution_count": 3,
   "id": "f7999838-a5a9-45be-abd0-27e259461a00",
   "metadata": {},
   "outputs": [
    {
     "name": "stdin",
     "output_type": "stream",
     "text": [
      "Enter coefficient a:  1\n",
      "Enter coefficient b:  4\n",
      "Enter coefficient c:  8\n"
     ]
    },
    {
     "name": "stdout",
     "output_type": "stream",
     "text": [
      "Root 1: -2.0 + 2.0i\n",
      "Root 2: -2.0 - 2.0i\n"
     ]
    }
   ],
   "source": [
    "import math\n",
    "\n",
    "a = float(input(\"Enter coefficient a: \"))\n",
    "b = float(input(\"Enter coefficient b: \"))\n",
    "c = float(input(\"Enter coefficient c: \"))\n",
    "\n",
    "discriminant = b**2 - 4*a*c\n",
    "\n",
    "if discriminant > 0:\n",
    "\n",
    " root1 = (-b + math.sqrt(discriminant)) / (2*a)\n",
    " root2 = (-b - math.sqrt(discriminant)) / (2*a)\n",
    " print(f\"Root 1: {root1}\")\n",
    " print(f\"Root 2: {root2}\")\n",
    "elif discriminant == 0: \n",
    " root = -b / (2*a)\n",
    " print(f\"Root: {root}\")\n",
    "else:\n",
    "\n",
    " real_part = -b / (2*a)\n",
    " imaginary_part = math.sqrt(abs(discriminant)) / (2*a)\n",
    " print(f\"Root 1: {real_part} + {imaginary_part}i\")\n",
    " print(f\"Root 2: {real_part} - {imaginary_part}i\")\n"
   ]
  },
  {
   "cell_type": "code",
   "execution_count": null,
   "id": "48ed5dd6-c63e-4a4e-999f-6d09ae235eff",
   "metadata": {},
   "outputs": [],
   "source": []
  },
  {
   "cell_type": "code",
   "execution_count": null,
   "id": "3dd0408b-a50c-4205-9745-1287f459f7da",
   "metadata": {},
   "outputs": [],
   "source": []
  }
 ],
 "metadata": {
  "kernelspec": {
   "display_name": "Python 3 (ipykernel)",
   "language": "python",
   "name": "python3"
  },
  "language_info": {
   "codemirror_mode": {
    "name": "ipython",
    "version": 3
   },
   "file_extension": ".py",
   "mimetype": "text/x-python",
   "name": "python",
   "nbconvert_exporter": "python",
   "pygments_lexer": "ipython3",
   "version": "3.13.1"
  }
 },
 "nbformat": 4,
 "nbformat_minor": 5
}
