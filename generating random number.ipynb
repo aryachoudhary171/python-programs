{
 "cells": [
  {
   "cell_type": "code",
   "execution_count": 1,
   "id": "0a924f26-cabd-429e-bce9-400a2a5acb07",
   "metadata": {},
   "outputs": [
    {
     "name": "stdout",
     "output_type": "stream",
     "text": [
      " Random number :73\n"
     ]
    }
   ],
   "source": [
    "import random\n",
    "print(f\" Random number :{random.randint(1,100)}\")"
   ]
  },
  {
   "cell_type": "code",
   "execution_count": 2,
   "id": "3b7d1014-d7de-44ad-9abd-654cd780e7d3",
   "metadata": {},
   "outputs": [
    {
     "name": "stdout",
     "output_type": "stream",
     "text": [
      " Random number :12\n"
     ]
    }
   ],
   "source": [
    "import random\n",
    "print(f\" Random number :{random.randint(1,50)}\")"
   ]
  },
  {
   "cell_type": "code",
   "execution_count": null,
   "id": "dc885ba4-84e8-4726-aed9-1e2ba17b888a",
   "metadata": {},
   "outputs": [],
   "source": []
  }
 ],
 "metadata": {
  "kernelspec": {
   "display_name": "Python 3 (ipykernel)",
   "language": "python",
   "name": "python3"
  },
  "language_info": {
   "codemirror_mode": {
    "name": "ipython",
    "version": 3
   },
   "file_extension": ".py",
   "mimetype": "text/x-python",
   "name": "python",
   "nbconvert_exporter": "python",
   "pygments_lexer": "ipython3",
   "version": "3.13.1"
  }
 },
 "nbformat": 4,
 "nbformat_minor": 5
}
